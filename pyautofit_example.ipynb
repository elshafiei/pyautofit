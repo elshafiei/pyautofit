{
 "cells": [
  {
   "cell_type": "code",
   "execution_count": 1,
   "metadata": {},
   "outputs": [],
   "source": [
    "from pyautofit.model import AutoFitModel\n",
    "from pyautofit.config import AutoFitConfig\n",
    "from pyautofit.data import AutoFitDataset\n",
    "import matplotlib.pyplot as plt\n",
    "%matplotlib inline"
   ]
  },
  {
   "cell_type": "code",
   "execution_count": 4,
   "metadata": {},
   "outputs": [],
   "source": [
    "import pandas as pd"
   ]
  },
  {
   "cell_type": "code",
   "execution_count": 6,
   "metadata": {},
   "outputs": [
    {
     "data": {
      "text/html": [
       "<div>\n",
       "<style scoped>\n",
       "    .dataframe tbody tr th:only-of-type {\n",
       "        vertical-align: middle;\n",
       "    }\n",
       "\n",
       "    .dataframe tbody tr th {\n",
       "        vertical-align: top;\n",
       "    }\n",
       "\n",
       "    .dataframe thead th {\n",
       "        text-align: right;\n",
       "    }\n",
       "</style>\n",
       "<table border=\"1\" class=\"dataframe\">\n",
       "  <thead>\n",
       "    <tr style=\"text-align: right;\">\n",
       "      <th></th>\n",
       "      <th>index</th>\n",
       "      <th>feat_1</th>\n",
       "      <th>feat_2</th>\n",
       "      <th>feat_3</th>\n",
       "      <th>feat_4</th>\n",
       "      <th>feat_5</th>\n",
       "      <th>gbf</th>\n",
       "      <th>weight</th>\n",
       "      <th>feat_cat</th>\n",
       "    </tr>\n",
       "  </thead>\n",
       "  <tbody>\n",
       "    <tr>\n",
       "      <th>0</th>\n",
       "      <td>0</td>\n",
       "      <td>0.0</td>\n",
       "      <td>0.0</td>\n",
       "      <td>2.777778</td>\n",
       "      <td>0.0</td>\n",
       "      <td>0.967762</td>\n",
       "      <td>1</td>\n",
       "      <td>4</td>\n",
       "      <td>c</td>\n",
       "    </tr>\n",
       "    <tr>\n",
       "      <th>1</th>\n",
       "      <td>1</td>\n",
       "      <td>0.0</td>\n",
       "      <td>0.0</td>\n",
       "      <td>6.000000</td>\n",
       "      <td>0.0</td>\n",
       "      <td>0.980904</td>\n",
       "      <td>1</td>\n",
       "      <td>9</td>\n",
       "      <td>a</td>\n",
       "    </tr>\n",
       "    <tr>\n",
       "      <th>2</th>\n",
       "      <td>2</td>\n",
       "      <td>0.0</td>\n",
       "      <td>0.0</td>\n",
       "      <td>4.000000</td>\n",
       "      <td>0.0</td>\n",
       "      <td>1.139252</td>\n",
       "      <td>0</td>\n",
       "      <td>2</td>\n",
       "      <td>a</td>\n",
       "    </tr>\n",
       "    <tr>\n",
       "      <th>3</th>\n",
       "      <td>3</td>\n",
       "      <td>0.0</td>\n",
       "      <td>0.0</td>\n",
       "      <td>4.555556</td>\n",
       "      <td>0.0</td>\n",
       "      <td>1.065789</td>\n",
       "      <td>1</td>\n",
       "      <td>9</td>\n",
       "      <td>b</td>\n",
       "    </tr>\n",
       "    <tr>\n",
       "      <th>4</th>\n",
       "      <td>4</td>\n",
       "      <td>1.0</td>\n",
       "      <td>4.0</td>\n",
       "      <td>0.000000</td>\n",
       "      <td>8.0</td>\n",
       "      <td>1.261156</td>\n",
       "      <td>1</td>\n",
       "      <td>8</td>\n",
       "      <td>d</td>\n",
       "    </tr>\n",
       "  </tbody>\n",
       "</table>\n",
       "</div>"
      ],
      "text/plain": [
       "   index  feat_1  feat_2    feat_3  feat_4    feat_5  gbf  weight feat_cat\n",
       "0      0     0.0     0.0  2.777778     0.0  0.967762    1       4        c\n",
       "1      1     0.0     0.0  6.000000     0.0  0.980904    1       9        a\n",
       "2      2     0.0     0.0  4.000000     0.0  1.139252    0       2        a\n",
       "3      3     0.0     0.0  4.555556     0.0  1.065789    1       9        b\n",
       "4      4     1.0     4.0  0.000000     8.0  1.261156    1       8        d"
      ]
     },
     "execution_count": 6,
     "metadata": {},
     "output_type": "execute_result"
    }
   ],
   "source": [
    "pd.read_csv('demo.csv').head()"
   ]
  },
  {
   "cell_type": "code",
   "execution_count": 2,
   "metadata": {},
   "outputs": [],
   "source": [
    "# xgboost config\n",
    "xgboost_config = AutoFitConfig.from_json('configs/xgboost_config.json')\n",
    "# lightgbm config\n",
    "lightgbm_config = AutoFitConfig.from_json('configs/lightgbm_config.json')"
   ]
  },
  {
   "cell_type": "code",
   "execution_count": 3,
   "metadata": {},
   "outputs": [
    {
     "name": "stdout",
     "output_type": "stream",
     "text": [
      "xgboost config: \n",
      "{'name': 'autofit_config', 'version': 'template', 'classifier_config': {'model': 'xgboost', 'params': {'max_depth': 1, 'n_estimators': 600, 'learning_rate': 0.05, 'objective': 'binary:logistic', 'booster': 'gbtree', 'n_jobs': 1, 'eval_metric': 'auc', 'early_stopping_rounds': 50}, 'random_state': 2333}, 'dataset_config': {'id_col': 'applicationid', 'flag_col': 'xy_gbf'}, 'binning_config': {'method': 'num_bads', 'max_bins': 50, 'min_bads': 10}}\n",
      "lightgbm config: \n",
      "{'name': 'autofit_config', 'version': 'template', 'classifier_config': {'model': 'lightgbm', 'params': {'boost_type': 'gbdt', 'num_leaves': 3, 'max_depth': 1, 'n_estimators': 2500, 'learning_rate': 0.05, 'objective': 'binary:logistic', 'booster': 'gbtree', 'n_jobs': 1, 'eval_metric': 'auc', 'early_stopping_rounds': 50}, 'random_state': 2333}, 'dataset_config': {'id_col': 'applicationid', 'flag_col': 'xy_gbf'}, 'binning_config': {'method': 'num_bads', 'max_bins': 50, 'min_bads': 10}}\n"
     ]
    }
   ],
   "source": [
    "# inspect\n",
    "print('xgboost config: \\n'+str(xgboost_config.to_dict()))\n",
    "print('lightgbm config: \\n'+str(lightgbm_config.to_dict()))"
   ]
  },
  {
   "cell_type": "code",
   "execution_count": 7,
   "metadata": {},
   "outputs": [
    {
     "ename": "NameError",
     "evalue": "name 'config' is not defined",
     "output_type": "error",
     "traceback": [
      "\u001b[1;31m---------------------------------------------------------------------------\u001b[0m",
      "\u001b[1;31mNameError\u001b[0m                                 Traceback (most recent call last)",
      "\u001b[1;32m<ipython-input-7-cacef92c17a3>\u001b[0m in \u001b[0;36m<module>\u001b[1;34m\u001b[0m\n\u001b[0;32m      1\u001b[0m \u001b[1;31m# Override configurations\u001b[0m\u001b[1;33m\u001b[0m\u001b[1;33m\u001b[0m\u001b[1;33m\u001b[0m\u001b[0m\n\u001b[1;32m----> 2\u001b[1;33m \u001b[0mconfig\u001b[0m\u001b[1;33m.\u001b[0m\u001b[0mdataset_config\u001b[0m \u001b[1;33m=\u001b[0m \u001b[0mdict\u001b[0m\u001b[1;33m(\u001b[0m\u001b[0mid_col\u001b[0m\u001b[1;33m=\u001b[0m\u001b[1;34m'index'\u001b[0m\u001b[1;33m,\u001b[0m \u001b[0mflag_col\u001b[0m\u001b[1;33m=\u001b[0m\u001b[1;34m'gbf'\u001b[0m\u001b[1;33m)\u001b[0m\u001b[1;33m\u001b[0m\u001b[1;33m\u001b[0m\u001b[0m\n\u001b[0m",
      "\u001b[1;31mNameError\u001b[0m: name 'config' is not defined"
     ]
    }
   ],
   "source": [
    "# Override configurations\n",
    "lightgbm_config.dataset_config = dict(id_col='index', flag_col='gbf', instance_weight_col='weight', categorical_cols=['feat_cat'])"
   ]
  },
  {
   "cell_type": "code",
   "execution_count": null,
   "metadata": {},
   "outputs": [],
   "source": [
    "config.to_dict()"
   ]
  },
  {
   "cell_type": "code",
   "execution_count": 6,
   "metadata": {},
   "outputs": [],
   "source": [
    "# Save new config to json\n",
    "config.to_json('configs/new.json')"
   ]
  },
  {
   "cell_type": "code",
   "execution_count": 7,
   "metadata": {},
   "outputs": [],
   "source": [
    "# Construct dataset object\n",
    "af_ds = AutoFitDataset.from_csv(file_path='demo.csv', config=config.dataset_config)"
   ]
  },
  {
   "cell_type": "code",
   "execution_count": 8,
   "metadata": {},
   "outputs": [],
   "source": [
    "# Construct a model object\n",
    "model = AutoFitModel(name='test_model', config=config, version='version_0')"
   ]
  },
  {
   "cell_type": "code",
   "execution_count": 9,
   "metadata": {},
   "outputs": [
    {
     "name": "stderr",
     "output_type": "stream",
     "text": [
      "ERROR:root:Feature: qantas dropped because only 1 valid bin found!\n",
      "C:\\Users\\bxh150\\Documents\\Git\\pyautofit\\pyautofit\\utils.py:7: RuntimeWarning: divide by zero encountered in true_divide\n",
      "  result = np.log(g_pct/b_pct)\n",
      "ERROR:root:Feature: medibank dropped because only 1 valid bin found!\n",
      "ERROR:root:Feature: pay_salary dropped because only 1 valid bin found!\n",
      "C:\\Users\\bxh150\\Documents\\Git\\pyautofit\\pyautofit\\utils.py:7: RuntimeWarning: divide by zero encountered in true_divide\n",
      "  result = np.log(g_pct/b_pct)\n",
      "ERROR:root:Feature: credit_adjustment dropped because only 1 valid bin found!\n",
      "ERROR:root:Feature: uni_university dropped because only 1 valid bin found!\n"
     ]
    }
   ],
   "source": [
    "# Feature binning\n",
    "model.auto_binning(af_ds=af_ds, binning_config=config.binning_config)"
   ]
  },
  {
   "cell_type": "code",
   "execution_count": null,
   "metadata": {},
   "outputs": [],
   "source": [
    "# Full pipeline example\n",
    "# Feature binning -> apply monotone constraint -> train a xgboost model \n",
    "model.modeling_xgboost(af_ds=af_ds, apply_binning=True, correlation_threshold=.3, test_size=.2)"
   ]
  },
  {
   "cell_type": "code",
   "execution_count": 11,
   "metadata": {},
   "outputs": [],
   "source": [
    "# Inspect binned features\n",
    "feats = model.features_to_csv()"
   ]
  },
  {
   "cell_type": "code",
   "execution_count": 12,
   "metadata": {},
   "outputs": [
    {
     "data": {
      "text/html": [
       "<div>\n",
       "<style scoped>\n",
       "    .dataframe tbody tr th:only-of-type {\n",
       "        vertical-align: middle;\n",
       "    }\n",
       "\n",
       "    .dataframe tbody tr th {\n",
       "        vertical-align: top;\n",
       "    }\n",
       "\n",
       "    .dataframe thead th {\n",
       "        text-align: right;\n",
       "    }\n",
       "</style>\n",
       "<table border=\"1\" class=\"dataframe\">\n",
       "  <thead>\n",
       "    <tr style=\"text-align: right;\">\n",
       "      <th></th>\n",
       "      <th>bins</th>\n",
       "      <th>points</th>\n",
       "      <th>bads</th>\n",
       "      <th>goods</th>\n",
       "      <th>counts</th>\n",
       "      <th>counts_pct</th>\n",
       "      <th>woe</th>\n",
       "      <th>iv</th>\n",
       "      <th>feature</th>\n",
       "    </tr>\n",
       "  </thead>\n",
       "  <tbody>\n",
       "    <tr>\n",
       "      <th>0</th>\n",
       "      <td>(-inf, 1.0]</td>\n",
       "      <td>None</td>\n",
       "      <td>1904</td>\n",
       "      <td>9368</td>\n",
       "      <td>11272</td>\n",
       "      <td>0.112722</td>\n",
       "      <td>0.071930</td>\n",
       "      <td>0.0061</td>\n",
       "      <td>tax</td>\n",
       "    </tr>\n",
       "    <tr>\n",
       "      <th>1</th>\n",
       "      <td>(1.0, 2.0]</td>\n",
       "      <td>None</td>\n",
       "      <td>683</td>\n",
       "      <td>3184</td>\n",
       "      <td>3867</td>\n",
       "      <td>0.038671</td>\n",
       "      <td>0.017986</td>\n",
       "      <td>0.0061</td>\n",
       "      <td>tax</td>\n",
       "    </tr>\n",
       "    <tr>\n",
       "      <th>2</th>\n",
       "      <td>(2.0, 3.0]</td>\n",
       "      <td>None</td>\n",
       "      <td>673</td>\n",
       "      <td>3183</td>\n",
       "      <td>3856</td>\n",
       "      <td>0.038561</td>\n",
       "      <td>0.032421</td>\n",
       "      <td>0.0061</td>\n",
       "      <td>tax</td>\n",
       "    </tr>\n",
       "    <tr>\n",
       "      <th>3</th>\n",
       "      <td>(3.0, 4.0]</td>\n",
       "      <td>None</td>\n",
       "      <td>583</td>\n",
       "      <td>2628</td>\n",
       "      <td>3211</td>\n",
       "      <td>0.032111</td>\n",
       "      <td>-0.015622</td>\n",
       "      <td>0.0061</td>\n",
       "      <td>tax</td>\n",
       "    </tr>\n",
       "    <tr>\n",
       "      <th>4</th>\n",
       "      <td>(4.0, 5.0]</td>\n",
       "      <td>None</td>\n",
       "      <td>429</td>\n",
       "      <td>2162</td>\n",
       "      <td>2591</td>\n",
       "      <td>0.025911</td>\n",
       "      <td>0.095919</td>\n",
       "      <td>0.0061</td>\n",
       "      <td>tax</td>\n",
       "    </tr>\n",
       "  </tbody>\n",
       "</table>\n",
       "</div>"
      ],
      "text/plain": [
       "          bins points  bads  goods  counts  counts_pct       woe      iv  \\\n",
       "0  (-inf, 1.0]   None  1904   9368   11272    0.112722  0.071930  0.0061   \n",
       "1   (1.0, 2.0]   None   683   3184    3867    0.038671  0.017986  0.0061   \n",
       "2   (2.0, 3.0]   None   673   3183    3856    0.038561  0.032421  0.0061   \n",
       "3   (3.0, 4.0]   None   583   2628    3211    0.032111 -0.015622  0.0061   \n",
       "4   (4.0, 5.0]   None   429   2162    2591    0.025911  0.095919  0.0061   \n",
       "\n",
       "  feature  \n",
       "0     tax  \n",
       "1     tax  \n",
       "2     tax  \n",
       "3     tax  \n",
       "4     tax  "
      ]
     },
     "execution_count": 12,
     "metadata": {},
     "output_type": "execute_result"
    }
   ],
   "source": [
    "feats.head()"
   ]
  },
  {
   "cell_type": "code",
   "execution_count": 13,
   "metadata": {},
   "outputs": [
    {
     "name": "stderr",
     "output_type": "stream",
     "text": [
      "C:\\Users\\bxh150\\Documents\\Git\\pyautofit\\pyautofit\\utils.py:7: RuntimeWarning: divide by zero encountered in true_divide\n",
      "  result = np.log(g_pct/b_pct)\n",
      "C:\\Users\\bxh150\\Documents\\Git\\pyautofit\\pyautofit\\utils.py:7: RuntimeWarning: divide by zero encountered in true_divide\n",
      "  result = np.log(g_pct/b_pct)\n"
     ]
    }
   ],
   "source": [
    "# Get points for each bin and add intercept \n",
    "ca = model.character_analysis()"
   ]
  },
  {
   "cell_type": "code",
   "execution_count": 14,
   "metadata": {},
   "outputs": [
    {
     "data": {
      "text/html": [
       "<div>\n",
       "<style scoped>\n",
       "    .dataframe tbody tr th:only-of-type {\n",
       "        vertical-align: middle;\n",
       "    }\n",
       "\n",
       "    .dataframe tbody tr th {\n",
       "        vertical-align: top;\n",
       "    }\n",
       "\n",
       "    .dataframe thead th {\n",
       "        text-align: right;\n",
       "    }\n",
       "</style>\n",
       "<table border=\"1\" class=\"dataframe\">\n",
       "  <thead>\n",
       "    <tr style=\"text-align: right;\">\n",
       "      <th></th>\n",
       "      <th>bins</th>\n",
       "      <th>points</th>\n",
       "      <th>bads</th>\n",
       "      <th>goods</th>\n",
       "      <th>counts</th>\n",
       "      <th>counts_pct</th>\n",
       "      <th>woe</th>\n",
       "      <th>iv</th>\n",
       "      <th>feature</th>\n",
       "    </tr>\n",
       "  </thead>\n",
       "  <tbody>\n",
       "    <tr>\n",
       "      <th>0</th>\n",
       "      <td>NaN</td>\n",
       "      <td>0.820750</td>\n",
       "      <td>NaN</td>\n",
       "      <td>NaN</td>\n",
       "      <td>NaN</td>\n",
       "      <td>NaN</td>\n",
       "      <td>NaN</td>\n",
       "      <td>NaN</td>\n",
       "      <td>intercept</td>\n",
       "    </tr>\n",
       "    <tr>\n",
       "      <th>1</th>\n",
       "      <td>(21.0, 1272.0]</td>\n",
       "      <td>-0.024573</td>\n",
       "      <td>7203.0</td>\n",
       "      <td>30701.0</td>\n",
       "      <td>37904.0</td>\n",
       "      <td>0.379048</td>\n",
       "      <td>-0.071615</td>\n",
       "      <td>0.003611</td>\n",
       "      <td>tax</td>\n",
       "    </tr>\n",
       "    <tr>\n",
       "      <th>2</th>\n",
       "      <td>(17.0, 21.0]</td>\n",
       "      <td>-0.002200</td>\n",
       "      <td>1289.0</td>\n",
       "      <td>5809.0</td>\n",
       "      <td>7098.0</td>\n",
       "      <td>0.070981</td>\n",
       "      <td>-0.015871</td>\n",
       "      <td>0.003611</td>\n",
       "      <td>tax</td>\n",
       "    </tr>\n",
       "    <tr>\n",
       "      <th>3</th>\n",
       "      <td>(-inf, 6.0]</td>\n",
       "      <td>0.016123</td>\n",
       "      <td>4795.0</td>\n",
       "      <td>22924.0</td>\n",
       "      <td>27719.0</td>\n",
       "      <td>0.277196</td>\n",
       "      <td>0.043198</td>\n",
       "      <td>0.003611</td>\n",
       "      <td>tax</td>\n",
       "    </tr>\n",
       "    <tr>\n",
       "      <th>4</th>\n",
       "      <td>(6.0, 17.0]</td>\n",
       "      <td>0.019518</td>\n",
       "      <td>4638.0</td>\n",
       "      <td>22639.0</td>\n",
       "      <td>27277.0</td>\n",
       "      <td>0.272775</td>\n",
       "      <td>0.063978</td>\n",
       "      <td>0.003611</td>\n",
       "      <td>tax</td>\n",
       "    </tr>\n",
       "  </tbody>\n",
       "</table>\n",
       "</div>"
      ],
      "text/plain": [
       "             bins    points    bads    goods   counts  counts_pct       woe  \\\n",
       "0             NaN  0.820750     NaN      NaN      NaN         NaN       NaN   \n",
       "1  (21.0, 1272.0] -0.024573  7203.0  30701.0  37904.0    0.379048 -0.071615   \n",
       "2    (17.0, 21.0] -0.002200  1289.0   5809.0   7098.0    0.070981 -0.015871   \n",
       "3     (-inf, 6.0]  0.016123  4795.0  22924.0  27719.0    0.277196  0.043198   \n",
       "4     (6.0, 17.0]  0.019518  4638.0  22639.0  27277.0    0.272775  0.063978   \n",
       "\n",
       "         iv    feature  \n",
       "0       NaN  intercept  \n",
       "1  0.003611        tax  \n",
       "2  0.003611        tax  \n",
       "3  0.003611        tax  \n",
       "4  0.003611        tax  "
      ]
     },
     "execution_count": 14,
     "metadata": {},
     "output_type": "execute_result"
    }
   ],
   "source": [
    "ca.head()"
   ]
  },
  {
   "cell_type": "code",
   "execution_count": 15,
   "metadata": {},
   "outputs": [
    {
     "data": {
      "image/png": "[encoded data removed]",
      "text/plain": [
       "<Figure size 432x288 with 1 Axes>"
      ]
     },
     "metadata": {
      "needs_background": "light"
     },
     "output_type": "display_data"
    }
   ],
   "source": [
    "model.plot_feature_importance()"
   ]
  },
  {
   "cell_type": "code",
   "execution_count": 16,
   "metadata": {},
   "outputs": [],
   "source": [
    "# Inference on a new dataset\n",
    "val_df = af_ds.df.iloc[:1000]"
   ]
  },
  {
   "cell_type": "code",
   "execution_count": 17,
   "metadata": {},
   "outputs": [
    {
     "name": "stdout",
     "output_type": "stream",
     "text": [
      "Help on class AutoFitDataset in module pyautofit.data:\n",
      "\n",
      "class AutoFitDataset(builtins.object)\n",
      " |  AutoFitDataset(df, id_col='idx', flag_col='gbf', flag_weight=None, instance_weight_col=None, exclusions=None)\n",
      " |  \n",
      " |  Constructs dataset for autofit\n",
      " |  \n",
      " |  Methods defined here:\n",
      " |  \n",
      " |  __init__(self, df, id_col='idx', flag_col='gbf', flag_weight=None, instance_weight_col=None, exclusions=None)\n",
      " |      Constructs AutoFit Dataset\n",
      " |      Args:\n",
      " |          df: a pandas DataFrame\n",
      " |          id_col: id column name\n",
      " |          flag_col: flag column name, value should only have 1 and 0, where 1 for good and 0 for bad\n",
      " |          flag_weight(Optional): a dictionary contains {'G': g_weight, 'B': b_weight}\n",
      " |          instance_weight_col(Optional): weight column for each record\n",
      " |          exclusions(Optional): a list contains columns not used in model\n",
      " |      \n",
      " |      Return:\n",
      " |          an AutoFitDataset instance\n",
      " |  \n",
      " |  get_feat_df(self)\n",
      " |  \n",
      " |  ----------------------------------------------------------------------\n",
      " |  Class methods defined here:\n",
      " |  \n",
      " |  from_csv(file_path, config) from builtins.type\n",
      " |      Constructs AutoFitDataset from csv file and dataset config dictionary\n",
      " |      \n",
      " |      Args:\n",
      " |          file_path: csv file path\n",
      " |          config: dataset config, mandatory fields: id_col, flag_col\n",
      " |      \n",
      " |      Returns:\n",
      " |          an AutoFitDataset instance\n",
      " |  \n",
      " |  ----------------------------------------------------------------------\n",
      " |  Data descriptors defined here:\n",
      " |  \n",
      " |  __dict__\n",
      " |      dictionary for instance variables (if defined)\n",
      " |  \n",
      " |  __weakref__\n",
      " |      list of weak references to the object (if defined)\n",
      "\n"
     ]
    }
   ],
   "source": [
    "help(AutoFitDataset)"
   ]
  },
  {
   "cell_type": "code",
   "execution_count": 18,
   "metadata": {},
   "outputs": [],
   "source": [
    "val_afds = AutoFitDataset(val_df, id_col='applicationid', flag_col='xy_gbf')"
   ]
  },
  {
   "cell_type": "code",
   "execution_count": 19,
   "metadata": {},
   "outputs": [
    {
     "data": {
      "text/plain": [
       "0.14171525296219656"
      ]
     },
     "execution_count": 19,
     "metadata": {},
     "output_type": "execute_result"
    }
   ],
   "source": [
    "# Apply inference on \n",
    "model.inference(val_afds)"
   ]
  }
 ],
 "metadata": {
  "kernelspec": {
   "display_name": "Python 3",
   "language": "python",
   "name": "python3"
  },
  "language_info": {
   "codemirror_mode": {
    "name": "ipython",
    "version": 3
   },
   "file_extension": ".py",
   "mimetype": "text/x-python",
   "name": "python",
   "nbconvert_exporter": "python",
   "pygments_lexer": "ipython3",
   "version": "3.7.3"
  }
 },
 "nbformat": 4,
 "nbformat_minor": 2
}
